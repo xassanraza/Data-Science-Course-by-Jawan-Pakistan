{
 "cells": [
  {
   "cell_type": "code",
   "execution_count": 4,
   "id": "e384b62f",
   "metadata": {},
   "outputs": [
    {
     "name": "stdout",
     "output_type": "stream",
     "text": [
      "Twinkle, twinkle, little star,\n",
      "        How I wonder what you are!\n",
      "            Up above the world so high,\n",
      "            Like a diamond in the sky.\n",
      "Twinkle, twinkle, little star,\n",
      "        How I wonder what you are\n"
     ]
    }
   ],
   "source": [
    "print(\"Twinkle, twinkle, little star,\");\n",
    "print(\"        How I wonder what you are!\");\n",
    "print(\"            Up above the world so high,\");\n",
    "print(\"            Like a diamond in the sky.\");\n",
    "print(\"Twinkle, twinkle, little star,\");\n",
    "print(\"        How I wonder what you are\");"
   ]
  },
  {
   "cell_type": "code",
   "execution_count": 6,
   "id": "40a346de",
   "metadata": {},
   "outputs": [
    {
     "name": "stdout",
     "output_type": "stream",
     "text": [
      "3.9.7\n"
     ]
    }
   ],
   "source": [
    "from platform import python_version\n",
    "\n",
    "print(python_version());"
   ]
  },
  {
   "cell_type": "code",
   "execution_count": 13,
   "id": "1262e031",
   "metadata": {},
   "outputs": [
    {
     "name": "stdout",
     "output_type": "stream",
     "text": [
      "2021-12-30 13:12:13.052928\n"
     ]
    }
   ],
   "source": [
    "from datetime import datetime\n",
    "print(datetime.now())"
   ]
  },
  {
   "cell_type": "code",
   "execution_count": 40,
   "id": "6634027c",
   "metadata": {},
   "outputs": [
    {
     "name": "stdout",
     "output_type": "stream",
     "text": [
      "Insert Circle radius: 3\n",
      "Circle area is: 28.259999999999998\n"
     ]
    }
   ],
   "source": [
    "input_radius= float(input(\"Insert Circle radius: \"));\n",
    "area=(3.14*input_radius*input_radius);\n",
    "print(\"Circle area is: \" + str(area) );"
   ]
  },
  {
   "cell_type": "code",
   "execution_count": 46,
   "id": "21f0b61d",
   "metadata": {},
   "outputs": [
    {
     "name": "stdout",
     "output_type": "stream",
     "text": [
      "Insert First name: Hassan\n",
      "Insert Last name: Raza\n",
      "nassaH azaR\n"
     ]
    }
   ],
   "source": [
    "f_name = input(\"Insert First name: \");\n",
    "l_name = input(\"Insert Last name: \");\n",
    "fn = f_name [::-1];\n",
    "sp= \" \";\n",
    "ln = l_name [::-1];\n",
    "print(fn + sp + ln);"
   ]
  },
  {
   "cell_type": "code",
   "execution_count": 49,
   "id": "414a5f2f",
   "metadata": {},
   "outputs": [
    {
     "name": "stdout",
     "output_type": "stream",
     "text": [
      "Insert First value: 3\n",
      "Insert second value: 7\n",
      "10\n"
     ]
    }
   ],
   "source": [
    "f_value= int(input(\"Insert First value: \"));\n",
    "l_value = int(input(\"Insert second value: \"));\n",
    "addition = f_value+l_value;\n",
    "print(addition);"
   ]
  },
  {
   "cell_type": "code",
   "execution_count": null,
   "id": "295cfdac",
   "metadata": {},
   "outputs": [],
   "source": []
  }
 ],
 "metadata": {
  "kernelspec": {
   "display_name": "Python 3 (ipykernel)",
   "language": "python",
   "name": "python3"
  },
  "language_info": {
   "codemirror_mode": {
    "name": "ipython",
    "version": 3
   },
   "file_extension": ".py",
   "mimetype": "text/x-python",
   "name": "python",
   "nbconvert_exporter": "python",
   "pygments_lexer": "ipython3",
   "version": "3.9.7"
  }
 },
 "nbformat": 4,
 "nbformat_minor": 5
}
